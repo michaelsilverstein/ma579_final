{
 "cells": [
  {
   "cell_type": "markdown",
   "metadata": {},
   "source": [
    "# Stochastic Models and Simulations of Phototaxis\n",
    "[Link](https://www.researchgate.net/profile/Devaki-Bhaya/publication/265289716_Stochastic_Models_and_Simulations_of_Phototaxis/links/5535445a0cf268fd0015d694/Stochastic-Models-and-Simulations-of-Phototaxis.pdf)"
   ]
  },
  {
   "cell_type": "code",
   "execution_count": 27,
   "metadata": {},
   "outputs": [
    {
     "name": "stderr",
     "output_type": "stream",
     "text": [
      "┌ Info: Precompiling Plots [91a5bcdd-55d7-5caf-9e0b-520d859cae80]\n",
      "└ @ Base loading.jl:1278\n"
     ]
    }
   ],
   "source": [
    "using Random, LinearAlgebra, Plots"
   ]
  },
  {
   "cell_type": "markdown",
   "metadata": {},
   "source": [
    "# Functions"
   ]
  },
  {
   "cell_type": "code",
   "execution_count": 96,
   "metadata": {},
   "outputs": [
    {
     "data": {
      "text/plain": [
       "pairwiseDistance (generic function with 1 method)"
      ]
     },
     "execution_count": 96,
     "metadata": {},
     "output_type": "execute_result"
    }
   ],
   "source": [
    "#=\n",
    "Sample N points from a circle of radius R\n",
    "https://stackoverflow.com/questions/5837572/generate-a-random-point-within-a-circle-uniformly/50746409\n",
    "=#\n",
    "function sampleCircle(N, R)\n",
    "    # Sample radii\n",
    "    # PDF = 2x; CDF = x²; CDF⁻¹ = √x\n",
    "    radii = R * sqrt.(rand(N))\n",
    "    \n",
    "    # Sample angles\n",
    "    # theta = 0 - 2π\n",
    "    thetas = rand(N) * 2π\n",
    "\n",
    "    # points\n",
    "    X = @.radii * [cos(thetas) sin(thetas)]\n",
    "    return X\n",
    "end\n",
    "\n",
    "#=\n",
    "Compute all pairwise distances between each point in X\n",
    "=#\n",
    "function pairwiseDistance(X)\n",
    "    n = size(X)[1]\n",
    "    dists = zeros(n, n)\n",
    "    for i in 1:n\n",
    "        a = X[i, :]\n",
    "        for j in i:n\n",
    "            b = X[j, :]\n",
    "            # Compute distance\n",
    "            d = norm(a - b)\n",
    "            # Save\n",
    "            dists[i, j] = dists[j, i] = d\n",
    "        end\n",
    "    end\n",
    "end"
   ]
  },
  {
   "cell_type": "markdown",
   "metadata": {},
   "source": [
    "# Local interactions\n",
    "At any\n",
    "given point in time, we assume that every cell may move according to one of the\n",
    "following three options (shown in Figure 2):\n",
    "1. a cell may continue to move without changing its previous direction\n",
    "2.  a cell can stop moving\n",
    "3. a cell may orient itself. In this case it will moves in the direction of one of its\n",
    "neighboring cells. The candidate neighboring cells must be within a certain\n",
    "interaction distance (shown as the dotted circle in Figure 2(c))."
   ]
  },
  {
   "cell_type": "code",
   "execution_count": null,
   "metadata": {},
   "outputs": [],
   "source": [
    "function localInteractions(θ, v, X, p)\n",
    "    θ = \n",
    "end"
   ]
  },
  {
   "cell_type": "code",
   "execution_count": 97,
   "metadata": {},
   "outputs": [
    {
     "data": {
      "text/plain": [
       "250-element BitArray{1}:\n",
       " 0\n",
       " 1\n",
       " 0\n",
       " 0\n",
       " 0\n",
       " 0\n",
       " 0\n",
       " 0\n",
       " 1\n",
       " 0\n",
       " 1\n",
       " 1\n",
       " 1\n",
       " ⋮\n",
       " 1\n",
       " 1\n",
       " 0\n",
       " 1\n",
       " 1\n",
       " 1\n",
       " 0\n",
       " 1\n",
       " 0\n",
       " 0\n",
       " 0\n",
       " 1"
      ]
     },
     "execution_count": 97,
     "metadata": {},
     "output_type": "execute_result"
    }
   ],
   "source": [
    "\"\"\"Parameters\"\"\"\n",
    "N = 250\n",
    "R = 200\n",
    "D = 5\n",
    "\n",
    "\"\"\"Initialize\"\"\"\n",
    "# Initialize points\n",
    "X = sampleCircle(N, R)\n",
    "# Pairwise distances\n",
    "dists = pairwiseDistance(X)\n",
    "# θ ∈ {0, 2π}\n",
    "θ = rand(N) * 2π\n",
    "# v ∈ {0, 1}\n",
    "v = rand(N) .> .5\n"
   ]
  },
  {
   "cell_type": "code",
   "execution_count": 46,
   "metadata": {},
   "outputs": [
    {
     "data": {
      "text/plain": [
       "200×2 Array{Float64,2}:\n",
       " -1.77923    -2.55243\n",
       " -7.42249     1.9623\n",
       " -5.60328    -3.41909\n",
       " -8.71454     4.71021\n",
       "  5.80142     5.97382\n",
       "  2.31748    -8.43708\n",
       "  6.39915    -7.48753\n",
       "  6.77921    -1.32499\n",
       " -0.686979    6.85008\n",
       " -0.678875   -2.6047\n",
       "  5.68672     5.33583\n",
       "  4.67874    -5.90765\n",
       " -3.15831     9.15059\n",
       "  ⋮          \n",
       "  0.0580153   9.43056\n",
       " -1.60137     9.64862\n",
       " -1.87887    -6.39934\n",
       " -8.92327    -1.48463\n",
       " -3.69557    -2.32217\n",
       "  0.235187    9.02702\n",
       "  0.157357   -2.36029\n",
       "  7.33592    -5.16345\n",
       "  6.88368    -4.56813\n",
       " -1.96946    -1.79401\n",
       " -5.68487    -3.07052\n",
       " -6.35581     6.98411"
      ]
     },
     "execution_count": 46,
     "metadata": {},
     "output_type": "execute_result"
    }
   ],
   "source": [
    "N = 200\n",
    "R = 10\n",
    "X = sampleCircle(N, R)"
   ]
  },
  {
   "cell_type": "code",
   "execution_count": 47,
   "metadata": {},
   "outputs": [
    {
     "data": {
      "text/plain": [
       "102.69462221554419"
      ]
     },
     "execution_count": 47,
     "metadata": {},
     "output_type": "execute_result"
    }
   ],
   "source": []
  },
  {
   "cell_type": "code",
   "execution_count": 94,
   "metadata": {},
   "outputs": [
    {
     "data": {
      "text/plain": [
       "200"
      ]
     },
     "execution_count": 94,
     "metadata": {},
     "output_type": "execute_result"
    }
   ],
   "source": [
    "size(X)[1]"
   ]
  },
  {
   "cell_type": "code",
   "execution_count": 95,
   "metadata": {},
   "outputs": [],
   "source": []
  }
 ],
 "metadata": {
  "kernelspec": {
   "display_name": "Julia 1.5.2",
   "language": "julia",
   "name": "julia-1.5"
  },
  "language_info": {
   "file_extension": ".jl",
   "mimetype": "application/julia",
   "name": "julia",
   "version": "1.5.2"
  }
 },
 "nbformat": 4,
 "nbformat_minor": 4
}
